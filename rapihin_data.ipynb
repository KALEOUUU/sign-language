{
 "cells": [
  {
   "cell_type": "code",
   "execution_count": 1,
   "metadata": {},
   "outputs": [],
   "source": [
    "import os\n",
    "import pickle"
   ]
  },
  {
   "cell_type": "code",
   "execution_count": null,
   "metadata": {},
   "outputs": [],
   "source": [
    "data_dict = pickle.load(open(\"data.pickle\", \"rb\"))"
   ]
  },
  {
   "cell_type": "code",
   "execution_count": 5,
   "metadata": {},
   "outputs": [],
   "source": [
    "two_hand_letters = ['A','B','D','F','G','H','K','M','N','P','Q','S','T','W','X','Y']\n",
    "idx = []\n",
    "for letter in two_hand_letters:\n",
    "    i = 0\n",
    "    while i<len(data_dict['labels']):\n",
    "        if data_dict['labels'][i] == letter:\n",
    "            idx.append(i)\n",
    "        i += 1"
   ]
  },
  {
   "cell_type": "code",
   "execution_count": 6,
   "metadata": {},
   "outputs": [
    {
     "name": "stdout",
     "output_type": "stream",
     "text": [
      " G Ada anomali di index ke-60\n",
      " M Ada anomali di index ke-121\n",
      " M Ada anomali di index ke-122\n",
      " M Ada anomali di index ke-123\n",
      " M Ada anomali di index ke-124\n",
      " M Ada anomali di index ke-126\n",
      " N Ada anomali di index ke-136\n",
      " N Ada anomali di index ke-137\n",
      " N Ada anomali di index ke-138\n",
      " N Ada anomali di index ke-139\n",
      " N Ada anomali di index ke-140\n",
      " N Ada anomali di index ke-141\n",
      " N Ada anomali di index ke-142\n",
      " N Ada anomali di index ke-143\n",
      " N Ada anomali di index ke-144\n",
      " N Ada anomali di index ke-145\n",
      " Y Ada anomali di index ke-265\n"
     ]
    }
   ],
   "source": [
    "indices = []\n",
    "for i in idx:\n",
    "    if len(data_dict['data'][i]) != 42:\n",
    "        print(f' {data_dict['labels'][i]} Ada anomali di index ke-{i}')\n",
    "        indices.append(i)"
   ]
  },
  {
   "cell_type": "code",
   "execution_count": 10,
   "metadata": {},
   "outputs": [],
   "source": [
    "PATH = \"BISINDO_Dataset/train/images\"\n",
    "\n",
    "dir_list = os.listdir(PATH)\n",
    "\n",
    "for i in indices:\n",
    "    os.remove(os.path.join(PATH, dir_list[i]))"
   ]
  },
  {
   "cell_type": "code",
   "execution_count": 7,
   "metadata": {},
   "outputs": [
    {
     "ename": "FileExistsError",
     "evalue": "[WinError 183] Cannot create a file when that file already exists: 'BISINDO_Dataset/lab\\\\I_1003.jpg' -> 'BISINDO_Dataset/lab_cleaned\\\\I_100.jpg'",
     "output_type": "error",
     "traceback": [
      "\u001b[1;31m---------------------------------------------------------------------------\u001b[0m",
      "\u001b[1;31mFileExistsError\u001b[0m                           Traceback (most recent call last)",
      "Cell \u001b[1;32mIn[7], line 11\u001b[0m\n\u001b[0;32m      9\u001b[0m \u001b[38;5;28;01mfor\u001b[39;00m file \u001b[38;5;129;01min\u001b[39;00m os\u001b[38;5;241m.\u001b[39mlistdir(DATA_DIR_SOURCE):\n\u001b[0;32m     10\u001b[0m     new_name \u001b[38;5;241m=\u001b[39m \u001b[38;5;124m\"\u001b[39m\u001b[38;5;132;01m{}\u001b[39;00m\u001b[38;5;124m_\u001b[39m\u001b[38;5;132;01m{}\u001b[39;00m\u001b[38;5;124m.jpg\u001b[39m\u001b[38;5;124m\"\u001b[39m\u001b[38;5;241m.\u001b[39mformat(file[\u001b[38;5;241m0\u001b[39m], \u001b[38;5;28mint\u001b[39m(file[\u001b[38;5;241m2\u001b[39m:\u001b[38;5;241m5\u001b[39m]))\n\u001b[1;32m---> 11\u001b[0m     os\u001b[38;5;241m.\u001b[39mrename(os\u001b[38;5;241m.\u001b[39mpath\u001b[38;5;241m.\u001b[39mjoin(DATA_DIR_SOURCE, file), os\u001b[38;5;241m.\u001b[39mpath\u001b[38;5;241m.\u001b[39mjoin(DATA_DIR_TARGET, new_name))\n",
      "\u001b[1;31mFileExistsError\u001b[0m: [WinError 183] Cannot create a file when that file already exists: 'BISINDO_Dataset/lab\\\\I_1003.jpg' -> 'BISINDO_Dataset/lab_cleaned\\\\I_100.jpg'"
     ]
    }
   ],
   "source": [
    "import os\n",
    "\n",
    "if not os.path.exists(\"BISINDO_Dataset/lab_cleaned\"):\n",
    "    os.makedirs(\"BISINDO_Dataset/lab_cleaned\")\n",
    "\n",
    "DATA_DIR_SOURCE = \"BISINDO_Dataset/lab\"\n",
    "DATA_DIR_TARGET = \"BISINDO_Dataset/lab_cleaned\"\n",
    "\n",
    "for file in os.listdir(DATA_DIR_SOURCE):\n",
    "    new_name = \"{}_{}.jpg\".format(file[0], int(file[2:5]))\n",
    "    os.rename(os.path.join(DATA_DIR_SOURCE, file), os.path.join(DATA_DIR_TARGET, new_name))"
   ]
  },
  {
   "cell_type": "code",
   "execution_count": 5,
   "metadata": {},
   "outputs": [
    {
     "ename": "FileExistsError",
     "evalue": "[WinError 183] Cannot create a file when that file already exists: 'BISINDO_Dataset/lab\\\\I_1001.jpg' -> 'BISINDO_Dataset/lab_cleaned\\\\I_200.jpg'",
     "output_type": "error",
     "traceback": [
      "\u001b[1;31m---------------------------------------------------------------------------\u001b[0m",
      "\u001b[1;31mFileExistsError\u001b[0m                           Traceback (most recent call last)",
      "Cell \u001b[1;32mIn[5], line 9\u001b[0m\n\u001b[0;32m      7\u001b[0m \u001b[38;5;28;01mfor\u001b[39;00m file \u001b[38;5;129;01min\u001b[39;00m os\u001b[38;5;241m.\u001b[39mlistdir(DATA_DIR_SOURCE):\n\u001b[0;32m      8\u001b[0m     new_name \u001b[38;5;241m=\u001b[39m \u001b[38;5;124m\"\u001b[39m\u001b[38;5;132;01m{}\u001b[39;00m\u001b[38;5;124m_\u001b[39m\u001b[38;5;132;01m{}\u001b[39;00m\u001b[38;5;124m.jpg\u001b[39m\u001b[38;5;124m\"\u001b[39m\u001b[38;5;241m.\u001b[39mformat(file[\u001b[38;5;241m0\u001b[39m], \u001b[38;5;28mint\u001b[39m(file[\u001b[38;5;241m2\u001b[39m:\u001b[38;5;241m5\u001b[39m])\u001b[38;5;241m+\u001b[39m\u001b[38;5;241m100\u001b[39m)\n\u001b[1;32m----> 9\u001b[0m     os\u001b[38;5;241m.\u001b[39mrename(os\u001b[38;5;241m.\u001b[39mpath\u001b[38;5;241m.\u001b[39mjoin(DATA_DIR_SOURCE, file), os\u001b[38;5;241m.\u001b[39mpath\u001b[38;5;241m.\u001b[39mjoin(DATA_DIR_TARGET, new_name))\n",
      "\u001b[1;31mFileExistsError\u001b[0m: [WinError 183] Cannot create a file when that file already exists: 'BISINDO_Dataset/lab\\\\I_1001.jpg' -> 'BISINDO_Dataset/lab_cleaned\\\\I_200.jpg'"
     ]
    }
   ],
   "source": [
    "import shutil\n",
    "import os\n",
    "\n",
    "DATA_DIR_SOURCE = \"BISINDO_Dataset/lab\"\n",
    "DATA_DIR_TARGET = \"BISINDO_Dataset/lab_cleaned\"\n",
    "\n",
    "for file in os.listdir(DATA_DIR_SOURCE):\n",
    "    new_name = \"{}_{}.jpg\".format(file[0], int(file[2:5])+100)\n",
    "    os.rename(os.path.join(DATA_DIR_SOURCE, file), os.path.join(DATA_DIR_TARGET, new_name))"
   ]
  },
  {
   "cell_type": "code",
   "execution_count": null,
   "metadata": {},
   "outputs": [],
   "source": [
    "# r --> 176"
   ]
  },
  {
   "cell_type": "code",
   "execution_count": 9,
   "metadata": {},
   "outputs": [
    {
     "name": "stdout",
     "output_type": "stream",
     "text": [
      "Error processing A_100.jpg: [WinError 32] The process cannot access the file because it is being used by another process: 'BISINDO_Dataset/lab\\\\A_100.jpg' -> 'BISINDO_Dataset/lab_cleaned\\\\A_100.jpg'\n"
     ]
    },
    {
     "ename": "KeyboardInterrupt",
     "evalue": "",
     "output_type": "error",
     "traceback": [
      "\u001b[1;31m---------------------------------------------------------------------------\u001b[0m",
      "\u001b[1;31mKeyboardInterrupt\u001b[0m                         Traceback (most recent call last)",
      "Cell \u001b[1;32mIn[9], line 17\u001b[0m\n\u001b[0;32m     15\u001b[0m     new_name \u001b[38;5;241m=\u001b[39m \u001b[38;5;124m\"\u001b[39m\u001b[38;5;132;01m{}\u001b[39;00m\u001b[38;5;124m_\u001b[39m\u001b[38;5;132;01m{}\u001b[39;00m\u001b[38;5;124m.jpg\u001b[39m\u001b[38;5;124m\"\u001b[39m\u001b[38;5;241m.\u001b[39mformat(file[\u001b[38;5;241m0\u001b[39m], \u001b[38;5;28mint\u001b[39m(file[\u001b[38;5;241m2\u001b[39m:\u001b[38;5;241m5\u001b[39m]))\n\u001b[0;32m     16\u001b[0m     \u001b[38;5;66;03m# Rename dan pindahkan file ke target folder\u001b[39;00m\n\u001b[1;32m---> 17\u001b[0m     os\u001b[38;5;241m.\u001b[39mrename(\n\u001b[0;32m     18\u001b[0m         os\u001b[38;5;241m.\u001b[39mpath\u001b[38;5;241m.\u001b[39mjoin(DATA_DIR_SOURCE, file), \n\u001b[0;32m     19\u001b[0m         os\u001b[38;5;241m.\u001b[39mpath\u001b[38;5;241m.\u001b[39mjoin(DATA_DIR_TARGET, new_name)\n\u001b[0;32m     20\u001b[0m     )\n\u001b[0;32m     21\u001b[0m \u001b[38;5;28;01mexcept\u001b[39;00m \u001b[38;5;167;01mException\u001b[39;00m \u001b[38;5;28;01mas\u001b[39;00m e:\n\u001b[0;32m     22\u001b[0m     \u001b[38;5;28mprint\u001b[39m(\u001b[38;5;124mf\u001b[39m\u001b[38;5;124m\"\u001b[39m\u001b[38;5;124mError processing \u001b[39m\u001b[38;5;132;01m{\u001b[39;00mfile\u001b[38;5;132;01m}\u001b[39;00m\u001b[38;5;124m: \u001b[39m\u001b[38;5;132;01m{\u001b[39;00me\u001b[38;5;132;01m}\u001b[39;00m\u001b[38;5;124m\"\u001b[39m)\n",
      "\u001b[1;31mKeyboardInterrupt\u001b[0m: "
     ]
    }
   ],
   "source": [
    "import os\n",
    "\n",
    "# Buat folder target jika belum ada\n",
    "if not os.path.exists(\"BISINDO_Dataset/lab_cleaned\"):\n",
    "    os.makedirs(\"BISINDO_Dataset/lab_cleaned\")\n",
    "\n",
    "DATA_DIR_SOURCE = \"BISINDO_Dataset/lab\"\n",
    "DATA_DIR_TARGET = \"BISINDO_Dataset/lab_cleaned\"\n",
    "\n",
    "for file in os.listdir(DATA_DIR_SOURCE):\n",
    "    # Pastikan file yang diproses adalah file valid (hindari folder/direktori)\n",
    "    if os.path.isfile(os.path.join(DATA_DIR_SOURCE, file)):\n",
    "        try:\n",
    "            # Format nama file baru\n",
    "            new_name = \"{}_{}.jpg\".format(file[0], int(file[2:5]))\n",
    "            # Rename dan pindahkan file ke target folder\n",
    "            os.rename(\n",
    "                os.path.join(DATA_DIR_SOURCE, file), \n",
    "                os.path.join(DATA_DIR_TARGET, new_name)\n",
    "            )\n",
    "        except Exception as e:\n",
    "            print(f\"Error processing {file}: {e}\")\n"
   ]
  },
  {
   "cell_type": "code",
   "execution_count": null,
   "metadata": {},
   "outputs": [],
   "source": []
  }
 ],
 "metadata": {
  "kernelspec": {
   "display_name": "jupyterlab",
   "language": "python",
   "name": "python3"
  },
  "language_info": {
   "codemirror_mode": {
    "name": "ipython",
    "version": 3
   },
   "file_extension": ".py",
   "mimetype": "text/x-python",
   "name": "python",
   "nbconvert_exporter": "python",
   "pygments_lexer": "ipython3",
   "version": "3.12.7"
  }
 },
 "nbformat": 4,
 "nbformat_minor": 2
}
